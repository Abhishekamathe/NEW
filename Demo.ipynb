{
  "nbformat": 4,
  "nbformat_minor": 0,
  "metadata": {
    "colab": {
      "provenance": [],
      "authorship_tag": "ABX9TyNJJmDMwKVKZmouGB/xCgt1",
      "include_colab_link": true
    },
    "kernelspec": {
      "name": "python3",
      "display_name": "Python 3"
    },
    "language_info": {
      "name": "python"
    }
  },
  "cells": [
    {
      "cell_type": "markdown",
      "metadata": {
        "id": "view-in-github",
        "colab_type": "text"
      },
      "source": [
        "<a href=\"https://colab.research.google.com/github/Abhishekamathe/NEW/blob/main/Demo.ipynb\" target=\"_parent\"><img src=\"https://colab.research.google.com/assets/colab-badge.svg\" alt=\"Open In Colab\"/></a>"
      ]
    },
    {
      "cell_type": "code",
      "execution_count": null,
      "metadata": {
        "colab": {
          "base_uri": "https://localhost:8080/"
        },
        "id": "IbW0sKevdLJf",
        "outputId": "f9b815cb-91be-45f8-cd34-5aa3c673cbe8"
      },
      "outputs": [
        {
          "output_type": "stream",
          "name": "stdout",
          "text": [
            "[94, 117, 91, 118, 128, 113, 107, 120, 101, 116]\n"
          ]
        }
      ],
      "source": [
        "import random\n",
        "\n",
        "# Create an empty list\n",
        "int_list = []\n",
        "\n",
        "# Loop 10 times to generate 10 random integers\n",
        "for _ in range(10):\n",
        "  # Generate a random integer between 90 and 130 (inclusive)\n",
        "  num = random.randint(90, 130)\n",
        "  # Append the random integer to the list\n",
        "  int_list.append(num)\n",
        "\n",
        "# Print the list\n",
        "print(int_list)\n"
      ]
    },
    {
      "cell_type": "code",
      "source": [
        "import random\n",
        "\n",
        "# Create an empty list\n",
        "int_list = []\n",
        "\n",
        "# Loop 10 times to generate 10 random integers between 90 and 130 (inclusive)\n",
        "for _ in range(10):\n",
        "  # Generate a random integer between 90 and 130 (inclusive)\n",
        "  num = random.randint(90, 130)\n",
        "  # Append the random integer to the list\n",
        "  int_list.append(num)\n",
        "\n",
        "# Print the list\n",
        "print(int_list)\n",
        "\n",
        "def calculate_mean(data):\n",
        "  \"\"\"\n",
        "  This function calculates the mean of a list of numbers.\n",
        "\n",
        "  Args:\n",
        "      data: A list of numbers.\n",
        "\n",
        "  Returns:\n",
        "      The mean of the list.\n",
        "  \"\"\"\n",
        "  # Check if the list is empty\n",
        "  if not data:\n",
        "    return None\n",
        "\n",
        "  # Calculate the sum of all elements in the list\n",
        "  sum_of_elements = sum(data)\n",
        "\n",
        "  # Calculate the mean by dividing the sum by the number of elements\n",
        "  mean = sum_of_elements / len(data)\n",
        "\n",
        "  return mean\n",
        "\n",
        "def find_median(data):\n",
        "  \"\"\"\n",
        "  This function finds the median of a sorted list of numbers.\n",
        "\n",
        "  Args:\n",
        "      data: A sorted list of numbers.\n",
        "\n",
        "  Returns:\n",
        "      The median of the list.\n",
        "  \"\"\"\n",
        "  # Check if the list is empty\n",
        "  if not data:\n",
        "    return None\n",
        "\n",
        "  # Sort the list in ascending order (copy to avoid modifying original list)\n",
        "  data_sorted = sorted(data.copy())\n",
        "\n",
        "  # Get the length of the list\n",
        "  list_length = len(data_sorted)\n",
        "\n",
        "  # If the list has an even number of elements, calculate the mean of the middle two elements\n",
        "  if list_length % 2 == 0:\n",
        "    median = (data_sorted[list_length // 2 - 1] + data_sorted[list_length // 2]) / 2\n",
        "  # If the list has an odd number of elements, return the middle element\n",
        "  else:\n",
        "    median = data_sorted[list_length // 2]\n",
        "\n",
        "  return median\n",
        "\n",
        "# Calculate the mean of the list\n",
        "mean_of_list = calculate_mean(int_list)\n",
        "\n",
        "# Find the median of the list\n",
        "median_of_list = find_median(int_list)\n",
        "\n",
        "print(\"Mean of the list:\", mean_of_list)\n",
        "print(\"Median of the list:\", median_of_list)\n"
      ],
      "metadata": {
        "colab": {
          "base_uri": "https://localhost:8080/"
        },
        "id": "EQKxW3Svd2MU",
        "outputId": "ccb28b53-9ffe-4229-c5de-e60479e3f7f8"
      },
      "execution_count": null,
      "outputs": [
        {
          "output_type": "stream",
          "name": "stdout",
          "text": [
            "[123, 123, 104, 123, 114, 96, 118, 94, 97, 123]\n",
            "Mean of the list: 111.5\n",
            "Median of the list: 116.0\n"
          ]
        }
      ]
    },
    {
      "cell_type": "code",
      "source": [
        "import random\n",
        "\n",
        "# Create an empty list\n",
        "int_list = []\n",
        "\n",
        "# Loop 10 times to generate 10 random integers between 90 and 130 (inclusive)\n",
        "for _ in range(10):\n",
        "  # Generate a random integer between 90 and 130 (inclusive)\n",
        "  num = random.randint(90, 130)\n",
        "  # Append the random integer to the list\n",
        "  int_list.append(num)\n",
        "\n",
        "# Print the list\n",
        "print(int_list)\n",
        "\n",
        "def find_mode(data):\n",
        "  \"\"\"\n",
        "  This function finds the mode(s) of a list of numbers using a dictionary.\n",
        "\n",
        "  Args:\n",
        "      data: A list of numbers.\n",
        "\n",
        "  Returns:\n",
        "      A list containing the mode(s) of the list.\n",
        "  \"\"\"\n",
        "  # Create a dictionary to store the frequency of each element\n",
        "  number_counts = {}\n",
        "  for number in data:\n",
        "    # Check if the number is already in the dictionary\n",
        "    if number in number_counts:\n",
        "      # Increment the count for the existing number\n",
        "      number_counts[number] += 1\n",
        "    else:\n",
        "      # Add the number to the dictionary with a count of 1\n",
        "      number_counts[number] = 1\n",
        "\n",
        "  # Find the maximum frequency\n",
        "  max_frequency = max(number_counts.values(), default=0)\n",
        "\n",
        "  # Create a list to store the mode(s)\n",
        "  modes = []\n",
        "  for number, count in number_counts.items():\n",
        "    # If the count is equal to the maximum frequency, it's a mode\n",
        "    if count == max_frequency:\n",
        "      modes.append(number)\n",
        "\n",
        "  return modes\n",
        "\n",
        "# Find the mode(s) of the list\n",
        "modes_of_list = find_mode(int_list)\n",
        "\n",
        "# Print the mode(s)\n",
        "if len(modes_of_list) == 1:\n",
        "  print(\"Mode of the list:\", modes_of_list[0])\n",
        "else:\n",
        "  print(\"Modes of the list:\", modes_of_list)\n"
      ],
      "metadata": {
        "colab": {
          "base_uri": "https://localhost:8080/"
        },
        "id": "1uISG6kjeCQa",
        "outputId": "9001b6f0-3e4a-4bbf-d31c-3d405895adcf"
      },
      "execution_count": null,
      "outputs": [
        {
          "output_type": "stream",
          "name": "stdout",
          "text": [
            "[105, 103, 124, 112, 114, 111, 120, 93, 126, 125]\n",
            "Modes of the list: [105, 103, 124, 112, 114, 111, 120, 93, 126, 125]\n"
          ]
        }
      ]
    },
    {
      "cell_type": "code",
      "source": [
        "import random\n",
        "\n",
        "# Create an empty list\n",
        "int_list = []\n",
        "weight_list = []\n",
        "\n",
        "# Loop 10 times to generate 10 random integers between 90 and 130 (inclusive)\n",
        "# and corresponding weights between 1 and 5 (inclusive)\n",
        "for _ in range(10):\n",
        "  num = random.randint(90, 130)\n",
        "  weight = random.randint(1, 5)\n",
        "  int_list.append(num)\n",
        "  weight_list.append(weight)\n",
        "\n",
        "# Print the list and weights\n",
        "print(\"Integer list:\", int_list)\n",
        "print(\"Weight list:\", weight_list)\n",
        "\n",
        "def calculate_weighted_mean(values, weights):\n",
        "  \"\"\"\n",
        "  This function calculates the weighted mean of a list of values and their corresponding weights.\n",
        "\n",
        "  Args:\n",
        "      values: A list of numerical values.\n",
        "      weights: A list of weights corresponding to the values.\n",
        "\n",
        "  Returns:\n",
        "      The weighted mean of the values.\n",
        "  \"\"\"\n",
        "  # Check if the lengths of the lists are equal\n",
        "  if len(values) != len(weights):\n",
        "    raise ValueError(\"Lists of values and weights must have the same length.\")\n",
        "\n",
        "  # Calculate the numerator (sum of product of values and weights)\n",
        "  numerator = sum(value * weight for value, weight in zip(values, weights))\n",
        "\n",
        "  # Calculate the denominator (sum of weights)\n",
        "  denominator = sum(weights)\n",
        "\n",
        "  # Check for division by zero\n",
        "  if denominator == 0:\n",
        "    raise ZeroDivisionError(\"Sum of weights cannot be zero.\")\n",
        "\n",
        "  # Calculate the weighted mean\n",
        "  weighted_mean = numerator / denominator\n",
        "\n",
        "  return weighted_mean\n",
        "\n",
        "# Calculate the weighted mean of the list\n",
        "weighted_mean_of_list = calculate_weighted_mean(int_list, weight_list)\n",
        "\n",
        "print(\"Weighted mean of the list:\", weighted_mean_of_list)\n"
      ],
      "metadata": {
        "colab": {
          "base_uri": "https://localhost:8080/"
        },
        "id": "4XdADoqcfm6Q",
        "outputId": "79eda9be-61e4-42c0-ce1f-e474953173ed"
      },
      "execution_count": null,
      "outputs": [
        {
          "output_type": "stream",
          "name": "stdout",
          "text": [
            "Integer list: [101, 113, 122, 96, 108, 106, 127, 116, 108, 120]\n",
            "Weight list: [5, 4, 2, 1, 3, 5, 1, 1, 5, 5]\n",
            "Weighted mean of the list: 110.4375\n"
          ]
        }
      ]
    },
    {
      "cell_type": "code",
      "source": [
        "def calculate_geometric_mean(data):\n",
        "  \"\"\"\n",
        "  This function calculates the geometric mean of a list of positive numbers.\n",
        "\n",
        "  Args:\n",
        "      data: A list of positive numbers.\n",
        "\n",
        "  Returns:\n",
        "      The geometric mean of the list, or None if the list contains non-positive numbers.\n",
        "  \"\"\"\n",
        "  # Check if all elements in the list are positive\n",
        "  if any(num <= 0 for num in data):\n",
        "    return None\n",
        "\n",
        "  # Calculate the product of all elements in the list\n",
        "  product = 1\n",
        "  for num in data:\n",
        "    product *= num\n",
        "\n",
        "  # Calculate the geometric mean by taking the nth root of the product,\n",
        "  # where n is the number of elements in the list\n",
        "  n = len(data)\n",
        "  geometric_mean = product**(1/n)\n",
        "\n",
        "  return geometric_mean\n",
        "\n",
        "# Example usage (assuming int_list contains a list of positive numbers)\n",
        "geometric_mean_of_list = calculate_geometric_mean(int_list)\n",
        "\n",
        "# Print the geometric mean (or a message if the list contains non-positive numbers)\n",
        "if geometric_mean_of_list is not None:\n",
        "  print(\"Geometric mean of the list:\", geometric_mean_of_list)\n",
        "else:\n",
        "  print(\"The list contains non-positive numbers. Geometric mean cannot be calculated.\")\n"
      ],
      "metadata": {
        "colab": {
          "base_uri": "https://localhost:8080/"
        },
        "id": "9Jo-xy6Bfqi2",
        "outputId": "9c56568a-032d-4bc3-eb7e-cea59d33f9ee"
      },
      "execution_count": null,
      "outputs": [
        {
          "output_type": "stream",
          "name": "stdout",
          "text": [
            "Geometric mean of the list: 111.31731470327952\n"
          ]
        }
      ]
    },
    {
      "cell_type": "code",
      "source": [
        "def calculate_harmonic_mean(data):\n",
        "  \"\"\"\n",
        "  This function calculates the harmonic mean of a list of positive numbers.\n",
        "\n",
        "  Args:\n",
        "      data: A list of positive numbers.\n",
        "\n",
        "  Returns:\n",
        "      The harmonic mean of the list, or None if the list contains non-positive numbers.\n",
        "  \"\"\"\n",
        "  # Check if any element in the list is non-positive\n",
        "  if any(num <= 0 for num in data):\n",
        "    return None\n",
        "\n",
        "  # Calculate the sum of reciprocals of all elements in the list\n",
        "  sum_of_reciprocals = 0\n",
        "  for num in data:\n",
        "    sum_of_reciprocals += 1 / num\n",
        "\n",
        "  # Calculate the harmonic mean by dividing the number of elements by the sum of reciprocals\n",
        "  harmonic_mean = len(data) / sum_of_reciprocals\n",
        "\n",
        "  return harmonic_mean\n",
        "\n",
        "# Example usage (assuming int_list contains a list of positive numbers)\n",
        "harmonic_mean_of_list = calculate_harmonic_mean(int_list)\n",
        "\n",
        "# Print the harmonic mean (or a message if the list contains non-positive numbers)\n",
        "if harmonic_mean_of_list is not None:\n",
        "  print(\"Harmonic mean of the list:\", harmonic_mean_of_list)\n",
        "else:\n",
        "  print(\"The list contains non-positive numbers. Harmonic mean cannot be calculated.\")\n"
      ],
      "metadata": {
        "colab": {
          "base_uri": "https://localhost:8080/"
        },
        "id": "sY-aBXoNf9uO",
        "outputId": "0c86b8a1-4b98-45b7-a1ab-6672b82e9683"
      },
      "execution_count": null,
      "outputs": [
        {
          "output_type": "stream",
          "name": "stdout",
          "text": [
            "Harmonic mean of the list: 110.9330572452445\n"
          ]
        }
      ]
    },
    {
      "cell_type": "code",
      "source": [
        "def calculate_midrange(data):\n",
        "  \"\"\"\n",
        "  This function calculates the midrange (average of the minimum and maximum) of a list of numbers.\n",
        "\n",
        "  Args:\n",
        "      data: A list of numbers.\n",
        "\n",
        "  Returns:\n",
        "      The midrange of the list, or None if the list is empty.\n",
        "  \"\"\"\n",
        "  # Check if the list is empty\n",
        "  if not data:\n",
        "    return None\n",
        "\n",
        "  # Find the minimum and maximum elements in the list\n",
        "  min_value = min(data)\n",
        "  max_value = max(data)\n",
        "\n",
        "  # Calculate the midrange\n",
        "  midrange = (min_value + max_value) / 2\n",
        "\n",
        "  return midrange\n",
        "\n",
        "# Example usage (assuming int_list is a list of numbers)\n",
        "midrange_of_list = calculate_midrange(int_list)\n",
        "\n",
        "# Print the midrange (or a message if the list is empty)\n",
        "if midrange_of_list is not None:\n",
        "  print(\"Midrange of the list:\", midrange_of_list)\n",
        "else:\n",
        "  print(\"The list is empty. Midrange cannot be calculated.\")\n"
      ],
      "metadata": {
        "colab": {
          "base_uri": "https://localhost:8080/"
        },
        "id": "2Ct41-2lgJa1",
        "outputId": "943e294e-dc0f-4380-90ae-2b3f0ec22e9a"
      },
      "execution_count": null,
      "outputs": [
        {
          "output_type": "stream",
          "name": "stdout",
          "text": [
            "Midrange of the list: 111.5\n"
          ]
        }
      ]
    },
    {
      "cell_type": "code",
      "source": [
        "import numpy as np\n",
        "\n",
        "def calculate_trimmed_mean(data, percentage_to_trim):\n",
        "  \"\"\"\n",
        "  This function calculates the trimmed mean of a list, excluding a certain percentage of outliers on both ends.\n",
        "\n",
        "  Args:\n",
        "      data: A list of numbers.\n",
        "      percentage_to_trim: The percentage of data to exclude from each end (as outliers).\n",
        "\n",
        "  Returns:\n",
        "      The trimmed mean of the list, or None if the list is empty or the percentage to trim is invalid.\n",
        "  \"\"\"\n",
        "  # Check if the list is empty\n",
        "  if not data:\n",
        "    return None\n",
        "\n",
        "  # Check if the percentage to trim is within valid range (0 to 50)\n",
        "  if percentage_to_trim < 0 or percentage_to_trim > 50:\n",
        "    raise ValueError(\"percentage_to_trim must be between 0 and 50\")\n",
        "\n",
        "  # Sort the data in ascending order\n",
        "  sorted_data = sorted(data.copy())\n",
        "\n",
        "  # Calculate the number of elements to trim from each end\n",
        "  num_to_trim = int(len(data) * percentage_to_trim / 100)\n",
        "\n",
        "  # Trim the outliers from both ends\n",
        "  trimmed_data = sorted_data[num_to_trim:-num_to_trim]\n",
        "\n",
        "  # Calculate the trimmed mean using the mean function from NumPy\n",
        "  if trimmed_data:\n",
        "    trimmed_mean = np.mean(trimmed_data)\n",
        "  else:\n",
        "    trimmed_mean = None\n",
        "\n",
        "  return trimmed_mean\n",
        "\n",
        "# Example usage (assuming int_list is a list of numbers)\n",
        "percentage_to_trim = 10  # Adjust this value to specify the percentage to trim\n",
        "\n",
        "trimmed_mean_of_list = calculate_trimmed_mean(int_list, percentage_to_trim)\n",
        "\n",
        "# Print the trimmed mean (or a message if there's an issue)\n",
        "if trimmed_mean_of_list is not None:\n",
        "  print(\"Trimmed mean of the list (excluding\", percentage_to_trim, \"% outliers on each end):\", trimmed_mean_of_list)\n",
        "else:\n",
        "  print(\"Error: The list is empty or the percentage to trim is invalid.\")\n"
      ],
      "metadata": {
        "colab": {
          "base_uri": "https://localhost:8080/"
        },
        "id": "c7lmi65Mg1nF",
        "outputId": "18c3407e-344b-49b5-c704-dac4799e3af3"
      },
      "execution_count": null,
      "outputs": [
        {
          "output_type": "stream",
          "name": "stdout",
          "text": [
            "Trimmed mean of the list (excluding 10 % outliers on each end): 111.75\n"
          ]
        }
      ]
    },
    {
      "cell_type": "code",
      "source": [],
      "metadata": {
        "id": "tQN_rooBhfM9"
      },
      "execution_count": null,
      "outputs": []
    }
  ]
}